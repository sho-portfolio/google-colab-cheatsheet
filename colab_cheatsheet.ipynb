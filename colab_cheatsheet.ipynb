{
  "nbformat": 4,
  "nbformat_minor": 0,
  "metadata": {
    "colab": {
      "name": "colab-cheatsheet.ipynb",
      "provenance": [],
      "include_colab_link": true
    },
    "kernelspec": {
      "name": "python3",
      "display_name": "Python 3"
    }
  },
  "cells": [
    {
      "cell_type": "markdown",
      "metadata": {
        "id": "view-in-github",
        "colab_type": "text"
      },
      "source": [
        "<a href=\"https://colab.research.google.com/github/sho-portfolio/google-colab-cheatsheet/blob/master/colab_cheatsheet.ipynb\" target=\"_parent\"><img src=\"https://colab.research.google.com/assets/colab-badge.svg\" alt=\"Open In Colab\"/></a>"
      ]
    },
    {
      "cell_type": "markdown",
      "metadata": {
        "id": "CkgSEboD_AWo",
        "colab_type": "text"
      },
      "source": [
        "https://towardsdatascience.com/3-ways-to-load-csv-files-into-colab-7c14fcbdcb92\n"
      ]
    },
    {
      "cell_type": "code",
      "metadata": {
        "id": "kExA-Z5D-LE7",
        "colab_type": "code",
        "colab": {
          "base_uri": "https://localhost:8080/",
          "height": 136
        },
        "outputId": "9e853a9d-4a3c-48cf-ea97-7571fbb21003"
      },
      "source": [
        "#connect to remote data source directly\n",
        "import pandas as pd\n",
        "url = \"https://raw.githubusercontent.com/sho-portfolio/MachineLearning-MultiClassClassifier/master/dataTrain.txt\"\n",
        "df = pd.read_csv(url)\n",
        "print(df)"
      ],
      "execution_count": 2,
      "outputs": [
        {
          "output_type": "stream",
          "text": [
            "                  text label\n",
            "0  containsA letterA A     A\n",
            "1  containsB letterB B     B\n",
            "2  containsC letterC C     C\n",
            "3  containsA letterA A     A\n",
            "4  containsB letterB B     B\n",
            "5  containsC letterC C     C\n"
          ],
          "name": "stdout"
        }
      ]
    },
    {
      "cell_type": "code",
      "metadata": {
        "id": "UPmpfXwt-kDr",
        "colab_type": "code",
        "colab": {}
      },
      "source": [
        "#download data source then use it (get entire repository)\n",
        "!git clone \"https://github.com/sho-portfolio/MachineLearning-MultiClassClassifier.git\"\n",
        "\n",
        "#delete the folder (repo)\n",
        "#!rm -rf \"MachineLearning-MultiClassClassifier\"\n",
        "\n"
      ],
      "execution_count": 0,
      "outputs": []
    },
    {
      "cell_type": "code",
      "metadata": {
        "id": "dC_oWoTGb_ar",
        "colab_type": "code",
        "colab": {
          "base_uri": "https://localhost:8080/",
          "height": 224
        },
        "outputId": "8406f93f-daf7-48eb-88f5-7964e2a417bd"
      },
      "source": [
        "#download data source then use it (get single file)\n",
        "!wget \"https://github.com/sho-portfolio/MachineLearning-MultiClassClassifier/blob/master/dataTrain.txt\"\n"
      ],
      "execution_count": 11,
      "outputs": [
        {
          "output_type": "stream",
          "text": [
            "--2019-11-03 18:28:31--  https://github.com/sho-portfolio/MachineLearning-MultiClassClassifier/blob/master/dataTrain.txt\n",
            "Resolving github.com (github.com)... 140.82.113.3\n",
            "Connecting to github.com (github.com)|140.82.113.3|:443... connected.\n",
            "HTTP request sent, awaiting response... 200 OK\n",
            "Length: unspecified [text/html]\n",
            "Saving to: ‘dataTrain.txt’\n",
            "\n",
            "dataTrain.txt           [ <=>                ]  66.69K  --.-KB/s    in 0.05s   \n",
            "\n",
            "2019-11-03 18:28:31 (1.31 MB/s) - ‘dataTrain.txt’ saved [68295]\n",
            "\n"
          ],
          "name": "stdout"
        }
      ]
    }
  ]
}