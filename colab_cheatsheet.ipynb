{
  "nbformat": 4,
  "nbformat_minor": 0,
  "metadata": {
    "colab": {
      "name": "colab-cheatsheet.ipynb",
      "provenance": [],
      "include_colab_link": true
    },
    "kernelspec": {
      "name": "python3",
      "display_name": "Python 3"
    }
  },
  "cells": [
    {
      "cell_type": "markdown",
      "metadata": {
        "id": "view-in-github",
        "colab_type": "text"
      },
      "source": [
        "<a href=\"https://colab.research.google.com/github/sho-portfolio/google-colab-cheatsheet/blob/master/colab_cheatsheet.ipynb\" target=\"_parent\"><img src=\"https://colab.research.google.com/assets/colab-badge.svg\" alt=\"Open In Colab\"/></a>"
      ]
    },
    {
      "cell_type": "markdown",
      "metadata": {
        "id": "CkgSEboD_AWo",
        "colab_type": "text"
      },
      "source": [
        "https://towardsdatascience.com/3-ways-to-load-csv-files-into-colab-7c14fcbdcb92\n"
      ]
    },
    {
      "cell_type": "code",
      "metadata": {
        "id": "kExA-Z5D-LE7",
        "colab_type": "code",
        "outputId": "9e853a9d-4a3c-48cf-ea97-7571fbb21003",
        "colab": {
          "base_uri": "https://localhost:8080/",
          "height": 136
        }
      },
      "source": [
        "#connect to remote data source directly\n",
        "import pandas as pd\n",
        "url = \"https://raw.githubusercontent.com/sho-portfolio/MachineLearning-MultiClassClassifier/master/dataTrain.txt\"\n",
        "df = pd.read_csv(url)\n",
        "print(df)"
      ],
      "execution_count": 0,
      "outputs": [
        {
          "output_type": "stream",
          "text": [
            "                  text label\n",
            "0  containsA letterA A     A\n",
            "1  containsB letterB B     B\n",
            "2  containsC letterC C     C\n",
            "3  containsA letterA A     A\n",
            "4  containsB letterB B     B\n",
            "5  containsC letterC C     C\n"
          ],
          "name": "stdout"
        }
      ]
    },
    {
      "cell_type": "code",
      "metadata": {
        "id": "UPmpfXwt-kDr",
        "colab_type": "code",
        "colab": {
          "base_uri": "https://localhost:8080/",
          "height": 238
        },
        "outputId": "ae426b7c-4ec3-4150-d581-696ae833685d"
      },
      "source": [
        "#download data source then use it (get entire repository)\n",
        "!git clone \"https://github.com/sho-portfolio/MachineLearning-MultiClassClassifier.git\"\n",
        "\n",
        "#read data\n",
        "import pandas as pd\n",
        "file = \"MachineLearning-MultiClassClassifier/dataTrain.txt\"\n",
        "df = pd.read_csv(file)\n",
        "print(df)\n",
        "\n",
        "#delete the folder (repo)\n",
        "!rm -rf \"MachineLearning-MultiClassClassifier\"\n",
        "\n"
      ],
      "execution_count": 15,
      "outputs": [
        {
          "output_type": "stream",
          "text": [
            "Cloning into 'MachineLearning-MultiClassClassifier'...\n",
            "remote: Enumerating objects: 67, done.\u001b[K\n",
            "remote: Counting objects:   1% (1/67)\u001b[K\rremote: Counting objects:   2% (2/67)\u001b[K\rremote: Counting objects:   4% (3/67)\u001b[K\rremote: Counting objects:   5% (4/67)\u001b[K\rremote: Counting objects:   7% (5/67)\u001b[K\rremote: Counting objects:   8% (6/67)\u001b[K\rremote: Counting objects:  10% (7/67)\u001b[K\rremote: Counting objects:  11% (8/67)\u001b[K\rremote: Counting objects:  13% (9/67)\u001b[K\rremote: Counting objects:  14% (10/67)\u001b[K\rremote: Counting objects:  16% (11/67)\u001b[K\rremote: Counting objects:  17% (12/67)\u001b[K\rremote: Counting objects:  19% (13/67)\u001b[K\rremote: Counting objects:  20% (14/67)\u001b[K\rremote: Counting objects:  22% (15/67)\u001b[K\rremote: Counting objects:  23% (16/67)\u001b[K\rremote: Counting objects:  25% (17/67)\u001b[K\rremote: Counting objects:  26% (18/67)\u001b[K\rremote: Counting objects:  28% (19/67)\u001b[K\rremote: Counting objects:  29% (20/67)\u001b[K\rremote: Counting objects:  31% (21/67)\u001b[K\rremote: Counting objects:  32% (22/67)\u001b[K\rremote: Counting objects:  34% (23/67)\u001b[K\rremote: Counting objects:  35% (24/67)\u001b[K\rremote: Counting objects:  37% (25/67)\u001b[K\rremote: Counting objects:  38% (26/67)\u001b[K\rremote: Counting objects:  40% (27/67)\u001b[K\rremote: Counting objects:  41% (28/67)\u001b[K\rremote: Counting objects:  43% (29/67)\u001b[K\rremote: Counting objects:  44% (30/67)\u001b[K\rremote: Counting objects:  46% (31/67)\u001b[K\rremote: Counting objects:  47% (32/67)\u001b[K\rremote: Counting objects:  49% (33/67)\u001b[K\rremote: Counting objects:  50% (34/67)\u001b[K\rremote: Counting objects:  52% (35/67)\u001b[K\rremote: Counting objects:  53% (36/67)\u001b[K\rremote: Counting objects:  55% (37/67)\u001b[K\rremote: Counting objects:  56% (38/67)\u001b[K\rremote: Counting objects:  58% (39/67)\u001b[K\rremote: Counting objects:  59% (40/67)\u001b[K\rremote: Counting objects:  61% (41/67)\u001b[K\rremote: Counting objects:  62% (42/67)\u001b[K\rremote: Counting objects:  64% (43/67)\u001b[K\rremote: Counting objects:  65% (44/67)\u001b[K\rremote: Counting objects:  67% (45/67)\u001b[K\rremote: Counting objects:  68% (46/67)\u001b[K\rremote: Counting objects:  70% (47/67)\u001b[K\rremote: Counting objects:  71% (48/67)\u001b[K\rremote: Counting objects:  73% (49/67)\u001b[K\rremote: Counting objects:  74% (50/67)\u001b[K\rremote: Counting objects:  76% (51/67)\u001b[K\rremote: Counting objects:  77% (52/67)\u001b[K\rremote: Counting objects:  79% (53/67)\u001b[K\rremote: Counting objects:  80% (54/67)\u001b[K\rremote: Counting objects:  82% (55/67)\u001b[K\rremote: Counting objects:  83% (56/67)\u001b[K\rremote: Counting objects:  85% (57/67)\u001b[K\rremote: Counting objects:  86% (58/67)\u001b[K\rremote: Counting objects:  88% (59/67)\u001b[K\rremote: Counting objects:  89% (60/67)\u001b[K\rremote: Counting objects:  91% (61/67)\u001b[K\rremote: Counting objects:  92% (62/67)\u001b[K\rremote: Counting objects:  94% (63/67)\u001b[K\rremote: Counting objects:  95% (64/67)\u001b[K\rremote: Counting objects:  97% (65/67)\u001b[K\rremote: Counting objects:  98% (66/67)\u001b[K\rremote: Counting objects: 100% (67/67)\u001b[K\rremote: Counting objects: 100% (67/67), done.\u001b[K\n",
            "remote: Compressing objects: 100% (56/56), done.\u001b[K\n",
            "remote: Total 67 (delta 25), reused 6 (delta 1), pack-reused 0\u001b[K\n",
            "Unpacking objects: 100% (67/67), done.\n",
            "                  text label\n",
            "0  containsA letterA A     A\n",
            "1  containsB letterB B     B\n",
            "2  containsC letterC C     C\n",
            "3  containsA letterA A     A\n",
            "4  containsB letterB B     B\n",
            "5  containsC letterC C     C\n"
          ],
          "name": "stdout"
        }
      ]
    },
    {
      "cell_type": "code",
      "metadata": {
        "id": "dC_oWoTGb_ar",
        "colab_type": "code",
        "outputId": "78f65e1f-178a-4c07-be7f-fde08ef6d4ea",
        "colab": {
          "base_uri": "https://localhost:8080/",
          "height": 343
        }
      },
      "source": [
        "#download data source then use it (get single file)\n",
        "!wget \"https://raw.githubusercontent.com/sho-portfolio/MachineLearning-MultiClassClassifier/master/dataTrain.txt\"\n",
        "\n",
        "#read data\n",
        "import pandas as pd\n",
        "file = \"dataTrain.txt\"\n",
        "df = pd.read_csv(file)\n",
        "print(df)\n",
        "\n",
        "#delete the file\n",
        "!rm \"dataTrain.txt\"\n"
      ],
      "execution_count": 12,
      "outputs": [
        {
          "output_type": "stream",
          "text": [
            "--2019-11-03 18:43:57--  https://raw.githubusercontent.com/sho-portfolio/MachineLearning-MultiClassClassifier/master/dataTrain.txt\n",
            "Resolving raw.githubusercontent.com (raw.githubusercontent.com)... 151.101.0.133, 151.101.64.133, 151.101.128.133, ...\n",
            "Connecting to raw.githubusercontent.com (raw.githubusercontent.com)|151.101.0.133|:443... connected.\n",
            "HTTP request sent, awaiting response... 200 OK\n",
            "Length: 149 [text/plain]\n",
            "Saving to: ‘dataTrain.txt’\n",
            "\n",
            "\rdataTrain.txt         0%[                    ]       0  --.-KB/s               \rdataTrain.txt       100%[===================>]     149  --.-KB/s    in 0s      \n",
            "\n",
            "2019-11-03 18:43:57 (40.5 MB/s) - ‘dataTrain.txt’ saved [149/149]\n",
            "\n",
            "                  text label\n",
            "0  containsA letterA A     A\n",
            "1  containsB letterB B     B\n",
            "2  containsC letterC C     C\n",
            "3  containsA letterA A     A\n",
            "4  containsB letterB B     B\n",
            "5  containsC letterC C     C\n"
          ],
          "name": "stdout"
        }
      ]
    },
    {
      "cell_type": "code",
      "metadata": {
        "id": "-VxKeLsgkJrH",
        "colab_type": "code",
        "colab": {}
      },
      "source": [
        ""
      ],
      "execution_count": 0,
      "outputs": []
    }
  ]
}